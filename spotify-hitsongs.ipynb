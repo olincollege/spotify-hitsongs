{
 "cells": [
  {
   "cell_type": "markdown",
   "source": [
    "# Spotify Hit Songs: How non-musical factors make a song successful?\n",
    "\n",
    "### SoftDes Mid-term Project - Spring 2023 - Olin College of Engineering\n",
    "### Sparsh Gupta and Sohum Kothavade\n"
   ],
   "metadata": {
    "collapsed": false,
    "pycharm": {
     "name": "#%% md\n"
    }
   }
  },
  {
   "cell_type": "markdown",
   "source": [
    "## Introduction\n",
    "\n",
    "Research Question: How non-musical factors make a song successful?"
   ],
   "metadata": {
    "collapsed": false,
    "pycharm": {
     "name": "#%% md\n"
    }
   }
  },
  {
   "cell_type": "markdown",
   "source": [
    "Music as an industry has revolved significantly in the past couple decades. With digital inventions such as iTunes by Apple (2001) and music streaming services like Spotify, Apple Music, etc. revolutionizing this industry, listening to music has become very accessible for every individual.Therefore, music creators and artists have increasingly delved into this industry to pursue their passion and create original music/songs. Consequently, the music industry has become extremely competitive for artists willing to make a mark in the field and be successful by creating 'hit' songs.\n",
    "\n",
    "Spotify, a music streaming service launched in 2006, has become the world's largest music provider having 433 million total users as of 2022 in 184 markets/regions across the world. This has resulted in most songs having their primary listeners on Spotify and most number of listens/streams on this platform as well. Therefore, obtaining statistics from Spotify data would enable us to look into some interesting patterns/trends which make a 'hit' song.\n",
    "\n",
    "Now, how do we define a 'hit' song? Spotify's data includes a parameter for every music/song track called the 'popularity'. This is a value between 0 and 100, with 100 being the most popular. This 'popularity' is based on spotify's algorithm which utilizes statistics such as the total number of plays of the track and how recent those plays are. We use this metric to classify songs as a 'hit' song or not which we will explore in this essay later.\n",
    "\n",
    "In this computational essay, we will primarily explore how certain non-musical factors, for example, release date of songs, album, etc. are correlated to the 'popularity' of a song and how these factors affect the successfulness of a song. To do this, we used Spotify's API to obtain data from 'The Million Playlist' dataset. We process this data to extract statistics for the non-musical factors being considered in this study and use visualizations to understand how these are related to the 'popularity' of a song."
   ],
   "metadata": {
    "collapsed": false,
    "pycharm": {
     "name": "#%% md\n"
    }
   }
  },
  {
   "cell_type": "markdown",
   "source": [
    "## Methodology"
   ],
   "metadata": {
    "collapsed": false,
    "pycharm": {
     "name": "#%% md\n"
    }
   }
  },
  {
   "cell_type": "markdown",
   "source": [
    "The data used in this study is from Spotify's ['The Million Playlist'](https://research.atspotify.com/2020/09/the-million-playlist-dataset-remastered/) dataset. We obtained the data used in this study from Spotify's API which gives us access to a million playlists of songs consisting of more than a hundred million songs/tracks.\n"
   ],
   "metadata": {
    "collapsed": false,
    "pycharm": {
     "name": "#%% md\n"
    }
   }
  },
  {
   "cell_type": "markdown",
   "source": [
    " Spotify's Web API is based on REST principles and the data resources are accessed via standard HTTPS requests to an API endpoint from Python. We used an authorized valid access token to make successful Web API requests and get access to the music statistics data. We access the API tokens using functions from the file `spotify_api_keys.py` as follows:"
   ],
   "metadata": {
    "collapsed": false,
    "pycharm": {
     "name": "#%% md\n"
    }
   }
  },
  {
   "cell_type": "code",
   "execution_count": null,
   "outputs": [],
   "source": [
    "# Get API keys\n",
    "CLIENT_ID = get_client_id()\n",
    "CLIENT_SECRET = get_client_secret()"
   ],
   "metadata": {
    "collapsed": false,
    "pycharm": {
     "name": "#%%\n"
    }
   }
  },
  {
   "cell_type": "markdown",
   "source": [
    "We also utilized Python's SpotiPy package to extract data from unique song identifiers. To do this, we import Pandas and the required modules from SpotiPy:"
   ],
   "metadata": {
    "collapsed": false,
    "pycharm": {
     "name": "#%% md\n"
    }
   }
  },
  {
   "cell_type": "code",
   "execution_count": null,
   "outputs": [],
   "source": [
    "import pandas as pd\n",
    "import spotipy\n",
    "from spotipy.oauth2 import SpotifyClientCredentials"
   ],
   "metadata": {
    "collapsed": false,
    "pycharm": {
     "name": "#%%\n"
    }
   }
  },
  {
   "cell_type": "markdown",
   "source": [
    "This complete process to extract the spotify data is encapsulated in the following function in `spotify_data.py`"
   ],
   "metadata": {
    "collapsed": false,
    "pycharm": {
     "name": "#%% md\n"
    }
   }
  },
  {
   "cell_type": "code",
   "execution_count": null,
   "outputs": [],
   "source": [
    "get_spotify_data(CLIENT_ID, CLIENT_SECRET)"
   ],
   "metadata": {
    "collapsed": false,
    "pycharm": {
     "name": "#%%\n"
    }
   }
  },
  {
   "cell_type": "markdown",
   "source": [
    "By calling this function, we first authenticate from our Spotify web API Developer User Account to access the data which prompts a user to sign in. We then authenticate our API token (client ID and client secret) to access the data, while creating our \"Spotify\" object using the following lines of code:"
   ],
   "metadata": {
    "collapsed": false,
    "pycharm": {
     "name": "#%% md\n"
    }
   }
  },
  {
   "cell_type": "code",
   "execution_count": null,
   "outputs": [],
   "source": [
    "# Setting up the SpotiPy client with Spotify app credentials\n",
    "client_credentials_manager = SpotifyClientCredentials(\n",
    "    client_id=CLIENT_ID, client_secret=CLIENT_ID)\n",
    "sp = spotipy.Spotify(client_credentials_manager=client_credentials_manager)"
   ],
   "metadata": {
    "collapsed": false,
    "pycharm": {
     "name": "#%%\n"
    }
   }
  },
  {
   "cell_type": "markdown",
   "source": [
    "The dataset is formatted like a Python dictionary, and we read and append the desired data into a list which consists the data of tracks for several chosen non-musical factors.\n",
    "\n",
    "A sample of the extracted data looks like the following:\n",
    "\n",
    "![](samplespotifydata.png)\n",
    "\n",
    "We use the SpotiPy client to get a list of fifty playlists (randomly based on the API request) from the Spotify's dataset using this:"
   ],
   "metadata": {
    "collapsed": false,
    "pycharm": {
     "name": "#%% md\n"
    }
   }
  },
  {
   "cell_type": "code",
   "execution_count": null,
   "outputs": [],
   "source": [
    "# Get a list of playlists in the Million Playlist Project\n",
    "playlists = sp.user_playlists('spotify', limit=50)\n",
    "# limit the number of playlists to 50"
   ],
   "metadata": {
    "collapsed": false,
    "pycharm": {
     "name": "#%%\n"
    }
   }
  },
  {
   "cell_type": "markdown",
   "source": [
    "We process the data to obtain useful track information from the playlists. Then, we use Pandas to convert the list of track data to a Pandas DataFrame by the following:"
   ],
   "metadata": {
    "collapsed": false,
    "pycharm": {
     "name": "#%% md\n"
    }
   }
  },
  {
   "cell_type": "code",
   "execution_count": null,
   "outputs": [],
   "source": [
    "# Converting list to Pandas DataFrame\n",
    "data = pd.DataFrame(data)"
   ],
   "metadata": {
    "collapsed": false,
    "pycharm": {
     "name": "#%%\n"
    }
   }
  },
  {
   "cell_type": "markdown",
   "source": [
    "Then, we export this DataFrame to a comma-seperated values (csv) file using Pandas (consisting of a header of our chosen non-musical factors) and store it on our local desktop."
   ],
   "metadata": {
    "collapsed": false,
    "pycharm": {
     "name": "#%% md\n"
    }
   }
  },
  {
   "cell_type": "code",
   "execution_count": null,
   "outputs": [],
   "source": [
    "# Exporting track data into a csv file\n",
    "data.to_csv(\"data.csv\",\n",
    "            header=[\"playlist_name\", \"track_name\", \"track_album\",\n",
    "                    \"track_artists\", \"track_release_date\",\n",
    "                    \"track_length\", \"track_popularity\", \"track_explicit\",\n",
    "                    \"track_markets\", \"track_album_type\"],\n",
    "            index=False)"
   ],
   "metadata": {
    "collapsed": false,
    "pycharm": {
     "name": "#%%\n"
    }
   }
  },
  {
   "cell_type": "markdown",
   "source": [
    "In our study, we extract a total of ten data columns including the 'popularity' metric and nine major non-musical factors that we have identified listed below:\n",
    "\n",
    "- **track_popularity**: This is a measure of the track's popularity on the streaming service, usually based on the number of plays or listens.\n",
    "- **playlist_name**: This is the name of the playlist, which is a collection of tracks organized by a user or the streaming service.\n",
    "- **track_name**: This is the name of the individual track within the playlist.\n",
    "- **track_album**: This refers to the album that the track is a part of, which may have multiple tracks.\n",
    "- **track_artists**: These are the artists who performed the track.\n",
    "- **track_release_date**: This is the date when the track was officially released by the artist.\n",
    "- **track_length**: This is the duration of the track in milliseconds.\n",
    "- **track_explicit**: This indicates whether the track contains explicit lyrics or content.\n",
    "- **track_markets**: This is the number of geographic regions where the track is available for streaming.\n",
    "- **track_album_type**: This describes the type of album that the track belongs to, such as a studio album, live album, or compilation album.\n"
   ],
   "metadata": {
    "collapsed": false,
    "pycharm": {
     "name": "#%% md\n"
    }
   }
  },
  {
   "cell_type": "markdown",
   "source": [
    "Using the `visualization.py` module, we generate visualizations based on this data by calling the function:"
   ],
   "metadata": {
    "collapsed": false,
    "pycharm": {
     "name": "#%% md\n"
    }
   }
  },
  {
   "cell_type": "code",
   "execution_count": null,
   "outputs": [],
   "source": [
    "create_visualizations('data.csv', 'figures')"
   ],
   "metadata": {
    "collapsed": false,
    "pycharm": {
     "name": "#%%\n"
    }
   }
  },
  {
   "cell_type": "markdown",
   "source": [
    "We import several libraries to utilize in this function for data processing and plots."
   ],
   "metadata": {
    "collapsed": false,
    "pycharm": {
     "name": "#%% md\n"
    }
   }
  },
  {
   "cell_type": "code",
   "execution_count": null,
   "outputs": [],
   "source": [
    "import pandas as pd\n",
    "import matplotlib.pyplot as plt"
   ],
   "metadata": {
    "collapsed": false,
    "pycharm": {
     "name": "#%%\n"
    }
   }
  },
  {
   "cell_type": "markdown",
   "source": [
    "This function first loads the stored csv file into the program using:"
   ],
   "metadata": {
    "collapsed": false,
    "pycharm": {
     "name": "#%% md\n"
    }
   }
  },
  {
   "cell_type": "code",
   "execution_count": null,
   "outputs": [],
   "source": [
    "data = pd.read_csv('data.csv')"
   ],
   "metadata": {
    "collapsed": false,
    "pycharm": {
     "name": "#%%\n"
    }
   }
  },
  {
   "cell_type": "markdown",
   "source": [
    "Overall, we obtain the desired features/non-musical factors and our metric into one csv file by using the 'Pandas' module which we can utilize to plot visualizations and understand the data as we will see in this essay further."
   ],
   "metadata": {
    "collapsed": false,
    "pycharm": {
     "name": "#%% md\n"
    }
   }
  },
  {
   "cell_type": "markdown",
   "source": [
    "To generate visualizations, we first plot several histograms, scatter plots, line charts, and bar charts by using the library `matplotlib.pyplot`.\n",
    "\n",
    "For example, a histogram is generated using the following code:"
   ],
   "metadata": {
    "collapsed": false,
    "pycharm": {
     "name": "#%% md\n"
    }
   }
  },
  {
   "cell_type": "code",
   "execution_count": null,
   "outputs": [],
   "source": [
    "# Create histogram\n",
    "plt.hist(data['track_popularity'], bins=20)\n",
    "plt.xlabel('Popularity')\n",
    "plt.ylabel('Number of songs')\n",
    "plt.title('Popularity Distribution (frequency)')"
   ],
   "metadata": {
    "collapsed": false,
    "pycharm": {
     "name": "#%%\n"
    }
   }
  },
  {
   "cell_type": "markdown",
   "source": [
    "To generate a scatter plot, we use the following code sample:"
   ],
   "metadata": {
    "collapsed": false,
    "pycharm": {
     "name": "#%% md\n"
    }
   }
  },
  {
   "cell_type": "code",
   "execution_count": null,
   "outputs": [],
   "source": [
    "# Create scatter plot\n",
    "plt.scatter(data['track_length'], data['track_popularity'])\n",
    "plt.xlabel('Track Length (ms)')\n",
    "plt.ylabel('Popularity')\n",
    "plt.title('Track Length vs. Popularity')"
   ],
   "metadata": {
    "collapsed": false,
    "pycharm": {
     "name": "#%%\n"
    }
   }
  },
  {
   "cell_type": "markdown",
   "source": [
    "For creating several bar charts, we first also calculate `mean_popularity` for tracks and group the data. We do this to obtain the desired format of data for a bar chart representation:"
   ],
   "metadata": {
    "collapsed": false,
    "pycharm": {
     "name": "#%% md\n"
    }
   }
  },
  {
   "cell_type": "code",
   "execution_count": null,
   "outputs": [],
   "source": [
    "# Group data by explicit content and calculate mean popularity\n",
    "mean_popularity = data.groupby('track_explicit')['track_popularity'].mean()"
   ],
   "metadata": {
    "collapsed": false,
    "pycharm": {
     "name": "#%%\n"
    }
   }
  },
  {
   "cell_type": "markdown",
   "source": [
    "Then, we plot a bar chart using the following code:"
   ],
   "metadata": {
    "collapsed": false,
    "pycharm": {
     "name": "#%% md\n"
    }
   }
  },
  {
   "cell_type": "code",
   "execution_count": null,
   "outputs": [],
   "source": [
    "# Create bar chart\n",
    "plt.bar(mean_popularity.index.astype(str), mean_popularity)\n",
    "plt.xlabel('Explicit Content')\n",
    "plt.ylabel('Mean Popularity')\n",
    "plt.title('Explicit Content vs. Popularity')"
   ],
   "metadata": {
    "collapsed": false,
    "pycharm": {
     "name": "#%%\n"
    }
   }
  },
  {
   "cell_type": "markdown",
   "source": [
    "We utilize Pandas again to convert raw release data to more visualization-processable format (datetime) which we can use and also group it by year/month."
   ],
   "metadata": {
    "collapsed": false,
    "pycharm": {
     "name": "#%% md\n"
    }
   }
  },
  {
   "cell_type": "code",
   "execution_count": null,
   "outputs": [],
   "source": [
    "# Convert release date to datetime and group by year/month\n",
    "data['release_date'] = pd.to_datetime(data['track_release_date'])\n",
    "data['year_month'] = data['release_date'].dt.to_period('M')\n",
    "release_counts = data['year_month'].value_counts().sort_index()"
   ],
   "metadata": {
    "collapsed": false,
    "pycharm": {
     "name": "#%%\n"
    }
   }
  },
  {
   "cell_type": "markdown",
   "source": [
    "Based on this, we create a line chart with desired criteria for the above using this code:"
   ],
   "metadata": {
    "collapsed": false,
    "pycharm": {
     "name": "#%% md\n"
    }
   }
  },
  {
   "cell_type": "code",
   "execution_count": null,
   "outputs": [],
   "source": [
    "# Create line chart\n",
    "plt.plot(release_counts.index.astype(str), release_counts)\n",
    "plt.xlabel('Year/Month')\n",
    "plt.ylabel('Number of Hit Songs')\n",
    "plt.title('Release Date Distribution')\n",
    "plt.xticks(rotation=90)"
   ],
   "metadata": {
    "collapsed": false,
    "pycharm": {
     "name": "#%%\n"
    }
   }
  },
  {
   "cell_type": "markdown",
   "source": [
    "Finally, we also save the generated plots to an output directory `figures` as a `png` image and consequently close the figures after plotting every figure."
   ],
   "metadata": {
    "collapsed": false,
    "pycharm": {
     "name": "#%% md\n"
    }
   }
  },
  {
   "cell_type": "code",
   "execution_count": null,
   "outputs": [],
   "source": [
    "plt.savefig(output_dir + '/visualization.png')\n",
    "plt.clf()"
   ],
   "metadata": {
    "collapsed": false,
    "pycharm": {
     "name": "#%%\n"
    }
   }
  },
  {
   "cell_type": "markdown",
   "source": [
    "## Results"
   ],
   "metadata": {
    "collapsed": false,
    "pycharm": {
     "name": "#%% md\n"
    }
   }
  },
  {
   "cell_type": "markdown",
   "source": [
    "Now, once we have obtained the visualizations, we analyze them for patterns/trends and understanding our initial question about how non-musical factors affect the success of a song. The main metric of focus is the 'popularity' of a track which helps us understand how much successful or 'hit' a song is."
   ],
   "metadata": {
    "collapsed": false,
    "pycharm": {
     "name": "#%% md\n"
    }
   }
  },
  {
   "cell_type": "markdown",
   "source": [
    "Firstly, we plot a histogram which demonstrates the frequency of songs/tracks in the dataset classified by their 'popularity'. We do this to understand the bias in our dataset and whether it reflects an actual dataset sample.\n",
    "\n",
    "![](figures/popularity_distribution.png)\n",
    "\n",
    "We observe that the most frequency of songs in the data lie between the 'popularity' of 70-80 which lets us know that most songs in this dataset are more popular than average. We also interpret that very low number of tracks lie in the 'popularity' range of 0-20 and therefore, not many songs are highly unpopular or unsuccessful. Also, songs which are extremely successful (popularity: 90-100) have low frequency of occurrence in the dataset. By analyzing this, we can conclude with pretty high confidence that this dataset sample reflects an actual real-world music data."
   ],
   "metadata": {
    "collapsed": false,
    "pycharm": {
     "name": "#%% md\n"
    }
   }
  },
  {
   "cell_type": "markdown",
   "source": [
    "Now, we will look at a very important factor, length of the song/track (in milliseconds), and how it affects whether a song gets popular or not.\n",
    "\n",
    "![](figures/length_vs_popularity.png)\n",
    "\n",
    "We observe that most songs lie between the length of 10,000 - 30,000 milliseconds regardless of 'popularity' and also do not affect whether a song becomes 'hit' or not. Although, we do observe the trend that if a song's length is too short (< 10,000 ms), it does not get popular ('popularity' lies below 40). Therefore, by this data, we can conclude that a track's length does not affect a song's success unless it is too short."
   ],
   "metadata": {
    "collapsed": false,
    "pycharm": {
     "name": "#%% md\n"
    }
   }
  },
  {
   "cell_type": "markdown",
   "source": [
    "Next, we explore whether having explicit words/content in the lyrics of a song affects how popular it becomes. To do this, we first categorize songs based on explicit content. If they are explicit, they are classified with the label `True` otherwise `False`. We take the `mean_popularity` as explained in the above section for all songs in each of the both label categories.\n",
    "\n",
    "![](figures/explicit_content_vs_popularity.png)\n",
    "\n",
    "This bar chart is very insightful because we observe that the 'popularity' of a song is mostly unaffected by the explicit content in the song's lyrics. We see that for both the classes, the `mean_popularity` has a very slight difference, with songs having no explicit content of course being slightly more popular. Although, this difference does not direct to a pretty solid conclusion, we can infer that for the most part, a song can become 'hit' regardless of having explicit content."
   ],
   "metadata": {
    "collapsed": false,
    "pycharm": {
     "name": "#%% md\n"
    }
   }
  },
  {
   "cell_type": "markdown",
   "source": [
    "## Conclusion"
   ],
   "metadata": {
    "collapsed": false,
    "pycharm": {
     "name": "#%% md\n"
    }
   }
  },
  {
   "cell_type": "markdown",
   "source": [
    "**Important Insights:**\n",
    "1. Some non-musical factors can contribute significantly to the popularity of a song: This project highlights how factors like release date of songs, song artists, etc. play a role in determining the success of a song. However, we also found out that factors like track length, explicit lyrics, etc. actually have no major effect on the popularity/success of a song.\n",
    "2. Spotify's popularity metric is a useful tool for analyzing the success of a song: Spotify's popularity metric is based on a combination of factors, including the total number of plays and how recent those plays are. By using this metric, we can classify songs as \"hits\" or \"non-hits\" and analyze the factors that contribute to their success.\n",
    "3. Data analysis can provide valuable insights for decision-making in the music industry: By analyzing data from Spotify and other sources, we can gain valuable insights into what makes a song successful. These insights can be used by music producers, record labels, and artists to adjust their strategies and increase the likelihood of creating a hit song."
   ],
   "metadata": {
    "collapsed": false,
    "pycharm": {
     "name": "#%% md\n"
    }
   }
  },
  {
   "cell_type": "markdown",
   "source": [
    "**Contextual Implications:**\n",
    "\n",
    "1. The reliance on Spotify's algorithm for determining the popularity of a song: This algorithm is based on the number of plays and how recent those plays are, and it does not necessarily reflect the quality or artistic value of the song. Therefore, the analysis may not provide a complete picture of what makes a hit song, and it may overlook important factors such as the creativity and originality of the song.\n",
    "\n",
    "2. Another implication is the potential bias in the dataset used in the analysis. The Million Playlist dataset may not be representative of the entire population of Spotify users, and it may not include songs from certain genres or artists. Therefore, the results of the analysis may not be generalizable to the entire population of Spotify users or to the music industry as a whole.\n",
    "\n",
    "**Ethical implications:**\n",
    "\n",
    "The project's ethical implications primarily relate to data privacy and the responsible use of machine learning algorithms. The use of Spotify's API to obtain data from The Million Playlist dataset raises questions about data privacy and the ethical use of user data. It is essential to ensure that the data obtained through the API is anonymized and that the users' privacy is respected."
   ],
   "metadata": {
    "collapsed": false,
    "pycharm": {
     "name": "#%% md\n"
    }
   }
  },
  {
   "cell_type": "markdown",
   "source": [
    "**Lessons learned from this project:**\n",
    "\n",
    "1. The importance of data processing and visualization: The project highlights the importance of processing and visualizing large datasets to understand patterns and trends.\n",
    "2. The potential benefits of understanding patterns and trends in data: Despite the limitations and ethical concerns, understanding patterns and trends in large datasets can provide valuable insights into various industries and fields.\n",
    "3. The limitations of relying on algorithmic metrics: The project raises concerns about relying solely on algorithmic metrics, such as Spotify's popularity metric, to evaluate the success of a song."
   ],
   "metadata": {
    "collapsed": false,
    "pycharm": {
     "name": "#%% md\n"
    }
   }
  },
  {
   "cell_type": "markdown",
   "source": [
    "**Challenges in the project:**\n",
    "\n",
    "1. Extracting data from Spotify's API took a really long time to fetch data quite a few times.\n",
    "2. Reading track data from extracted data using Spotipy library was working fine for a while and then it stopped doing so which reflects some inconsistencies between real-time updates to Spotify's API conflicting with data fields in Spotipy (which does not get updated often)."
   ],
   "metadata": {
    "collapsed": false,
    "pycharm": {
     "name": "#%% md\n"
    }
   }
  },
  {
   "cell_type": "markdown",
   "source": [
    "**Future Work:**\n",
    "1. Refining the analysis: After conducting an initial analysis, there may be opportunities to refine the analysis and explore additional factors that contribute to the success of a song. For example, you could explore how features of a song, such as tempo or duration, affect its popularity.\n",
    "2. Machine Learning: Using this analysis, we can identify features that do affect the popularity of a song and then use those features to create a Machine Learning model that could predict based on this feature data whether a song will become successful or not.\n",
    "3. Improving the tooling: This project could be turned into a more robust tool that could be used to analyze data and provide insights to a wider audience. For example, the tool could be turned into a web application that allows users to explore the data and conduct their own analyses."
   ],
   "metadata": {
    "collapsed": false,
    "pycharm": {
     "name": "#%% md\n"
    }
   }
  }
 ],
 "metadata": {
  "kernelspec": {
   "display_name": "Python 3",
   "language": "python",
   "name": "python3"
  },
  "language_info": {
   "codemirror_mode": {
    "name": "ipython",
    "version": 2
   },
   "file_extension": ".py",
   "mimetype": "text/x-python",
   "name": "python",
   "nbconvert_exporter": "python",
   "pygments_lexer": "ipython2",
   "version": "2.7.6"
  }
 },
 "nbformat": 4,
 "nbformat_minor": 0
}