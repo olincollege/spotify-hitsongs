{
 "cells": [
  {
   "cell_type": "markdown",
   "source": [
    "# Spotify Hit Songs: What non-musical factors make a song successful?\n",
    "\n",
    "### SoftDes Mid-term Project - Spring 2023 - Olin College of Engineering\n",
    "### Sparsh Gupta and Sohum Kothavade"
   ],
   "metadata": {
    "collapsed": false,
    "pycharm": {
     "name": "#%% md\n"
    }
   }
  },
  {
   "cell_type": "markdown",
   "source": [
    "## Introduction"
   ],
   "metadata": {
    "collapsed": false,
    "pycharm": {
     "name": "#%% md\n"
    }
   }
  },
  {
   "cell_type": "markdown",
   "source": [
    "Music as an industry has revolved significantly in the past couple decades. With digital inventions such as iTunes by Apple (2001) and music streaming services like Spotify, Apple Music, etc. revolutionizing this industry, listening to music has become very accessible for every individual.Therefore, music creators and artists have increasingly delved into this industry to pursue their passion and create original music/songs. Consequently, the music industry has become extremely competitive for artists willing to make a mark in the field and be successful by creating 'hit' songs.\n",
    "\n",
    "Spotify, a music streaming service launched in 2006, has become the world's largest music provider having 433 million total users as of 2022 in 184 markets/regions across the world. This has resulted in most songs having their primary listeners on Spotify and most number of listens/streams on this platform as well. Therefore, obtaining statistics from Spotify data would enable us to look into some interesting patterns/trends which make a 'hit' song.\n",
    "\n",
    "Now, how do we define a 'hit' song? Spotify's data includes a parameter for every music/song track called the 'popularity'. This is a value between 0 and 100, with 100 being the most popular. This 'popularity' is based on spotify's algorithm which utilizes statistics such as the total number of plays of the track and how recent those plays are. We use this metric to classify songs as a 'hit' song or not which we will explore in this essay later.\n",
    "\n",
    "In this computational essay, we will primarily explore how certain non-musical factors, for example, release date of songs, album, etc. are correlated to the 'popularity' of a song and how these factors affect the successfulness of a song. To do this, we used Spotify's API to obtain data from 'The Million Playlist' dataset. We process this data to extract statistics for the non-musical factors being considered in this study and use visualizations to understand how these are related to the 'popularity' of a song."
   ],
   "metadata": {
    "collapsed": false,
    "pycharm": {
     "name": "#%% md\n"
    }
   }
  },
  {
   "cell_type": "markdown",
   "source": [
    "## Methodology"
   ],
   "metadata": {
    "collapsed": false,
    "pycharm": {
     "name": "#%% md\n"
    }
   }
  },
  {
   "cell_type": "markdown",
   "source": [
    "The data used in this study is from Spotify's ['The Million Playlist'](https://research.atspotify.com/2020/09/the-million-playlist-dataset-remastered/) dataset. We obtained the data used in this study from Spotify's API which gives us access to a million playlists of songs consisting of more than a hundred million songs/tracks.\n"
   ],
   "metadata": {
    "collapsed": false,
    "pycharm": {
     "name": "#%% md\n"
    }
   }
  },
  {
   "cell_type": "markdown",
   "source": [
    " Spotify's Web API is based on REST principles and the data resources are accessed via standard HTTPS requests to an API endpoint from Python. We used an authorized valid access token to make successful Web API requests and get access to the music statistics data. We also utilized Python's SpotiPy package to extract data from unique song identifiers. To do this, we import the required modules from SpotiPy:\n"
   ],
   "metadata": {
    "collapsed": false,
    "pycharm": {
     "name": "#%% md\n"
    }
   }
  },
  {
   "cell_type": "code",
   "execution_count": null,
   "outputs": [],
   "source": [
    "import spotipy\n",
    "from spotipy.oauth2 import SpotifyClientCredentials"
   ],
   "metadata": {
    "collapsed": false,
    "pycharm": {
     "name": "#%%\n"
    }
   }
  },
  {
   "cell_type": "markdown",
   "source": [
    "We authenticate from our Spotify web API Developer User Account to access the data which prompts a user to sign in. We then authenticate our API token (client ID and client secret) to access the data, while creating our \"Spotify\" object using the following lines of code:"
   ],
   "metadata": {
    "collapsed": false,
    "pycharm": {
     "name": "#%% md\n"
    }
   }
  },
  {
   "cell_type": "code",
   "execution_count": null,
   "outputs": [],
   "source": [
    "# Setting up the SpotiPy client with Spotify app credentials\n",
    "client_credentials_manager = SpotifyClientCredentials(client_id=client_id, client_secret=client_secret)\n",
    "sp = spotipy.Spotify(client_credentials_manager=client_credentials_manager)"
   ],
   "metadata": {
    "collapsed": false,
    "pycharm": {
     "name": "#%%\n"
    }
   }
  },
  {
   "cell_type": "markdown",
   "source": [
    "The dataset is formatted like a Python dictionary, and we read and append the desired data into a list which consists the data of tracks for several chosen non-musical factors. We use Pandas to convert this list to a Pandas DataFrame by the following:\n"
   ],
   "metadata": {
    "collapsed": false,
    "pycharm": {
     "name": "#%% md\n"
    }
   }
  },
  {
   "cell_type": "code",
   "execution_count": null,
   "outputs": [],
   "source": [
    "# Converting list to Pandas DataFrame\n",
    "data = pd.DataFrame(data)"
   ],
   "metadata": {
    "collapsed": false,
    "pycharm": {
     "name": "#%%\n"
    }
   }
  },
  {
   "cell_type": "markdown",
   "source": [
    "Then, we export this DataFrame to a comma-seperated values (csv) file using Pandas (consisting of a header of our chosen non-musical factors) and store it on our local desktop."
   ],
   "metadata": {
    "collapsed": false,
    "pycharm": {
     "name": "#%% md\n"
    }
   }
  },
  {
   "cell_type": "code",
   "execution_count": null,
   "outputs": [],
   "source": [
    "# Exporting track data into a csv file\n",
    "data.to_csv(\"data.csv\",\n",
    "            header=[\"playlist_name\", \"track_name\", \"track_album\",\n",
    "                    \"track_artists\", \"track_release_date\",\n",
    "                    \"track_length\", \"track_popularity\", \"track_explicit\",\n",
    "                    \"track_markets\", \"track_album_type\"],\n",
    "            index=False)"
   ],
   "metadata": {
    "collapsed": false,
    "pycharm": {
     "name": "#%%\n"
    }
   }
  },
  {
   "cell_type": "markdown",
   "source": [
    "In our study, we extract a total of ten data columns including the 'popularity' metric and nine major non-musical factors that we have identified listed below:\n",
    "\n",
    "- **track_popularity**: This is a measure of the track's popularity on the streaming service, usually based on the number of plays or listens.\n",
    "- **playlist_name**: This is the name of the playlist, which is a collection of tracks organized by a user or the streaming service.\n",
    "- **track_name**: This is the name of the individual track within the playlist.\n",
    "- **track_album**: This refers to the album that the track is a part of, which may have multiple tracks.\n",
    "- **track_artists**: These are the artists who performed the track.\n",
    "- **track_release_date**: This is the date when the track was officially released by the artist.\n",
    "- **track_length**: This is the duration of the track in milliseconds.\n",
    "- **track_explicit**: This indicates whether the track contains explicit lyrics or content.\n",
    "- **track_markets**: This is the number of geographic regions where the track is available for streaming.\n",
    "- **track_album_type**: This describes the type of album that the track belongs to, such as a studio album, live album, or compilation album.\n"
   ],
   "metadata": {
    "collapsed": false,
    "pycharm": {
     "name": "#%% md\n"
    }
   }
  },
  {
   "cell_type": "markdown",
   "source": [
    "We then use a function 'load_data' which utilizes Pandas 'read_csv' module to load the stored csv file (data.csv) from our local machine to the Python script as a pandas DataFrame:"
   ],
   "metadata": {
    "collapsed": false,
    "pycharm": {
     "name": "#%% md\n"
    }
   }
  },
  {
   "cell_type": "code",
   "execution_count": null,
   "outputs": [],
   "source": [
    "# Load the Spotify data from csv file\n",
    "spotify_data = load_data('data.csv')"
   ],
   "metadata": {
    "collapsed": false,
    "pycharm": {
     "name": "#%%\n"
    }
   }
  },
  {
   "cell_type": "markdown",
   "source": [
    "We also utilize another function 'extract_column' to extract the desired non-musical factor data column from this DataFrame in our code scripts:"
   ],
   "metadata": {
    "collapsed": false,
    "pycharm": {
     "name": "#%% md\n"
    }
   }
  },
  {
   "cell_type": "code",
   "execution_count": null,
   "outputs": [],
   "source": [
    "# Extract the desired non-musical factor data column\n",
    "# Sample: extracting the track release date column\n",
    "track_release_date = extract_column(spotify_data, 'track_release_date')"
   ],
   "metadata": {
    "collapsed": false,
    "pycharm": {
     "name": "#%%\n"
    }
   }
  },
  {
   "cell_type": "markdown",
   "source": [
    "Overall, we obtain the desired features/non-musical factors and our metric into one DataFrame/csv file by using the 'Pandas' module which we can utilize to plot visualizations and understand the data as we will see in this essay further."
   ],
   "metadata": {
    "collapsed": false,
    "pycharm": {
     "name": "#%% md\n"
    }
   }
  },
  {
   "cell_type": "markdown",
   "source": [
    "## Results"
   ],
   "metadata": {
    "collapsed": false,
    "pycharm": {
     "name": "#%% md\n"
    }
   }
  },
  {
   "cell_type": "markdown",
   "source": [
    "## Conclusion"
   ],
   "metadata": {
    "collapsed": false,
    "pycharm": {
     "name": "#%% md\n"
    }
   }
  }
 ],
 "metadata": {
  "kernelspec": {
   "display_name": "Python 3",
   "language": "python",
   "name": "python3"
  },
  "language_info": {
   "codemirror_mode": {
    "name": "ipython",
    "version": 2
   },
   "file_extension": ".py",
   "mimetype": "text/x-python",
   "name": "python",
   "nbconvert_exporter": "python",
   "pygments_lexer": "ipython2",
   "version": "2.7.6"
  }
 },
 "nbformat": 4,
 "nbformat_minor": 0
}